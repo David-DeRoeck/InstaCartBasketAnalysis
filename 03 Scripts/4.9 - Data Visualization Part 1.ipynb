{
 "cells": [
  {
   "cell_type": "markdown",
   "id": "7c40b447",
   "metadata": {},
   "source": [
    "# Data Visualization With Python - Part 1"
   ]
  },
  {
   "cell_type": "markdown",
   "id": "c7c5be8c",
   "metadata": {},
   "source": [
    "## Steps used in this script\n",
    "\n",
    "#### 1. Create customers Data Frame\n",
    "#### 2. Cleaning customers Data Frame\n",
    "#### 3. Create ords_prods_merged Data Frame\n",
    "#### 4. Cleaning ords_prods_merged Data Frame\n",
    "#### 5. Merging Data Frames to create instacart_data Data Frame\n",
    "#### 6. Cleaning and optimizing data types in instacart_data Data Frame\n",
    "#### 7. Saving instacart_data Data Frame to .pkl\n",
    "\n",
    "&nbsp;\n",
    "&nbsp;"
   ]
  },
  {
   "cell_type": "code",
   "execution_count": 1,
   "id": "8bd9170c",
   "metadata": {},
   "outputs": [],
   "source": [
    "# Importing libraries\n",
    "\n",
    "import pandas as pd\n",
    "import numpy as np\n",
    "import matplotlib.pyplot as plt\n",
    "import seaborn as sns\n",
    "import os"
   ]
  },
  {
   "cell_type": "markdown",
   "id": "c0b43d98",
   "metadata": {},
   "source": [
    "#### 1. Create customers Data Frame"
   ]
  },
  {
   "cell_type": "code",
   "execution_count": 2,
   "id": "ffb53dff",
   "metadata": {},
   "outputs": [
    {
     "ename": "ParserError",
     "evalue": "Error tokenizing data. C error: out of memory",
     "output_type": "error",
     "traceback": [
      "\u001b[1;31m---------------------------------------------------------------------------\u001b[0m",
      "\u001b[1;31mParserError\u001b[0m                               Traceback (most recent call last)",
      "\u001b[1;32m~\\AppData\\Local\\Temp/ipykernel_14216/3520807533.py\u001b[0m in \u001b[0;36m<module>\u001b[1;34m\u001b[0m\n\u001b[0;32m      1\u001b[0m \u001b[0mpath\u001b[0m \u001b[1;33m=\u001b[0m \u001b[1;34mr\"C:\\Users\\David\\Desktop\\CareerFoundry\\Achievement 4\\Instacart Basket Analysis\"\u001b[0m\u001b[1;33m\u001b[0m\u001b[1;33m\u001b[0m\u001b[0m\n\u001b[0;32m      2\u001b[0m \u001b[1;33m\u001b[0m\u001b[0m\n\u001b[1;32m----> 3\u001b[1;33m \u001b[0mcustomers\u001b[0m \u001b[1;33m=\u001b[0m \u001b[0mpd\u001b[0m\u001b[1;33m.\u001b[0m\u001b[0mread_csv\u001b[0m\u001b[1;33m(\u001b[0m\u001b[0mos\u001b[0m\u001b[1;33m.\u001b[0m\u001b[0mpath\u001b[0m\u001b[1;33m.\u001b[0m\u001b[0mjoin\u001b[0m\u001b[1;33m(\u001b[0m\u001b[0mpath\u001b[0m\u001b[1;33m,\u001b[0m \u001b[1;34m'02 Data'\u001b[0m\u001b[1;33m,\u001b[0m \u001b[1;34m'Original Data'\u001b[0m\u001b[1;33m,\u001b[0m  \u001b[1;34m'customers.csv'\u001b[0m\u001b[1;33m)\u001b[0m\u001b[1;33m)\u001b[0m\u001b[1;33m\u001b[0m\u001b[1;33m\u001b[0m\u001b[0m\n\u001b[0m",
      "\u001b[1;32m~\\anaconda3\\lib\\site-packages\\pandas\\util\\_decorators.py\u001b[0m in \u001b[0;36mwrapper\u001b[1;34m(*args, **kwargs)\u001b[0m\n\u001b[0;32m    309\u001b[0m                     \u001b[0mstacklevel\u001b[0m\u001b[1;33m=\u001b[0m\u001b[0mstacklevel\u001b[0m\u001b[1;33m,\u001b[0m\u001b[1;33m\u001b[0m\u001b[1;33m\u001b[0m\u001b[0m\n\u001b[0;32m    310\u001b[0m                 )\n\u001b[1;32m--> 311\u001b[1;33m             \u001b[1;32mreturn\u001b[0m \u001b[0mfunc\u001b[0m\u001b[1;33m(\u001b[0m\u001b[1;33m*\u001b[0m\u001b[0margs\u001b[0m\u001b[1;33m,\u001b[0m \u001b[1;33m**\u001b[0m\u001b[0mkwargs\u001b[0m\u001b[1;33m)\u001b[0m\u001b[1;33m\u001b[0m\u001b[1;33m\u001b[0m\u001b[0m\n\u001b[0m\u001b[0;32m    312\u001b[0m \u001b[1;33m\u001b[0m\u001b[0m\n\u001b[0;32m    313\u001b[0m         \u001b[1;32mreturn\u001b[0m \u001b[0mwrapper\u001b[0m\u001b[1;33m\u001b[0m\u001b[1;33m\u001b[0m\u001b[0m\n",
      "\u001b[1;32m~\\anaconda3\\lib\\site-packages\\pandas\\io\\parsers\\readers.py\u001b[0m in \u001b[0;36mread_csv\u001b[1;34m(filepath_or_buffer, sep, delimiter, header, names, index_col, usecols, squeeze, prefix, mangle_dupe_cols, dtype, engine, converters, true_values, false_values, skipinitialspace, skiprows, skipfooter, nrows, na_values, keep_default_na, na_filter, verbose, skip_blank_lines, parse_dates, infer_datetime_format, keep_date_col, date_parser, dayfirst, cache_dates, iterator, chunksize, compression, thousands, decimal, lineterminator, quotechar, quoting, doublequote, escapechar, comment, encoding, encoding_errors, dialect, error_bad_lines, warn_bad_lines, on_bad_lines, delim_whitespace, low_memory, memory_map, float_precision, storage_options)\u001b[0m\n\u001b[0;32m    584\u001b[0m     \u001b[0mkwds\u001b[0m\u001b[1;33m.\u001b[0m\u001b[0mupdate\u001b[0m\u001b[1;33m(\u001b[0m\u001b[0mkwds_defaults\u001b[0m\u001b[1;33m)\u001b[0m\u001b[1;33m\u001b[0m\u001b[1;33m\u001b[0m\u001b[0m\n\u001b[0;32m    585\u001b[0m \u001b[1;33m\u001b[0m\u001b[0m\n\u001b[1;32m--> 586\u001b[1;33m     \u001b[1;32mreturn\u001b[0m \u001b[0m_read\u001b[0m\u001b[1;33m(\u001b[0m\u001b[0mfilepath_or_buffer\u001b[0m\u001b[1;33m,\u001b[0m \u001b[0mkwds\u001b[0m\u001b[1;33m)\u001b[0m\u001b[1;33m\u001b[0m\u001b[1;33m\u001b[0m\u001b[0m\n\u001b[0m\u001b[0;32m    587\u001b[0m \u001b[1;33m\u001b[0m\u001b[0m\n\u001b[0;32m    588\u001b[0m \u001b[1;33m\u001b[0m\u001b[0m\n",
      "\u001b[1;32m~\\anaconda3\\lib\\site-packages\\pandas\\io\\parsers\\readers.py\u001b[0m in \u001b[0;36m_read\u001b[1;34m(filepath_or_buffer, kwds)\u001b[0m\n\u001b[0;32m    480\u001b[0m \u001b[1;33m\u001b[0m\u001b[0m\n\u001b[0;32m    481\u001b[0m     \u001b[1;31m# Create the parser.\u001b[0m\u001b[1;33m\u001b[0m\u001b[1;33m\u001b[0m\u001b[0m\n\u001b[1;32m--> 482\u001b[1;33m     \u001b[0mparser\u001b[0m \u001b[1;33m=\u001b[0m \u001b[0mTextFileReader\u001b[0m\u001b[1;33m(\u001b[0m\u001b[0mfilepath_or_buffer\u001b[0m\u001b[1;33m,\u001b[0m \u001b[1;33m**\u001b[0m\u001b[0mkwds\u001b[0m\u001b[1;33m)\u001b[0m\u001b[1;33m\u001b[0m\u001b[1;33m\u001b[0m\u001b[0m\n\u001b[0m\u001b[0;32m    483\u001b[0m \u001b[1;33m\u001b[0m\u001b[0m\n\u001b[0;32m    484\u001b[0m     \u001b[1;32mif\u001b[0m \u001b[0mchunksize\u001b[0m \u001b[1;32mor\u001b[0m \u001b[0miterator\u001b[0m\u001b[1;33m:\u001b[0m\u001b[1;33m\u001b[0m\u001b[1;33m\u001b[0m\u001b[0m\n",
      "\u001b[1;32m~\\anaconda3\\lib\\site-packages\\pandas\\io\\parsers\\readers.py\u001b[0m in \u001b[0;36m__init__\u001b[1;34m(self, f, engine, **kwds)\u001b[0m\n\u001b[0;32m    809\u001b[0m             \u001b[0mself\u001b[0m\u001b[1;33m.\u001b[0m\u001b[0moptions\u001b[0m\u001b[1;33m[\u001b[0m\u001b[1;34m\"has_index_names\"\u001b[0m\u001b[1;33m]\u001b[0m \u001b[1;33m=\u001b[0m \u001b[0mkwds\u001b[0m\u001b[1;33m[\u001b[0m\u001b[1;34m\"has_index_names\"\u001b[0m\u001b[1;33m]\u001b[0m\u001b[1;33m\u001b[0m\u001b[1;33m\u001b[0m\u001b[0m\n\u001b[0;32m    810\u001b[0m \u001b[1;33m\u001b[0m\u001b[0m\n\u001b[1;32m--> 811\u001b[1;33m         \u001b[0mself\u001b[0m\u001b[1;33m.\u001b[0m\u001b[0m_engine\u001b[0m \u001b[1;33m=\u001b[0m \u001b[0mself\u001b[0m\u001b[1;33m.\u001b[0m\u001b[0m_make_engine\u001b[0m\u001b[1;33m(\u001b[0m\u001b[0mself\u001b[0m\u001b[1;33m.\u001b[0m\u001b[0mengine\u001b[0m\u001b[1;33m)\u001b[0m\u001b[1;33m\u001b[0m\u001b[1;33m\u001b[0m\u001b[0m\n\u001b[0m\u001b[0;32m    812\u001b[0m \u001b[1;33m\u001b[0m\u001b[0m\n\u001b[0;32m    813\u001b[0m     \u001b[1;32mdef\u001b[0m \u001b[0mclose\u001b[0m\u001b[1;33m(\u001b[0m\u001b[0mself\u001b[0m\u001b[1;33m)\u001b[0m\u001b[1;33m:\u001b[0m\u001b[1;33m\u001b[0m\u001b[1;33m\u001b[0m\u001b[0m\n",
      "\u001b[1;32m~\\anaconda3\\lib\\site-packages\\pandas\\io\\parsers\\readers.py\u001b[0m in \u001b[0;36m_make_engine\u001b[1;34m(self, engine)\u001b[0m\n\u001b[0;32m   1038\u001b[0m             )\n\u001b[0;32m   1039\u001b[0m         \u001b[1;31m# error: Too many arguments for \"ParserBase\"\u001b[0m\u001b[1;33m\u001b[0m\u001b[1;33m\u001b[0m\u001b[0m\n\u001b[1;32m-> 1040\u001b[1;33m         \u001b[1;32mreturn\u001b[0m \u001b[0mmapping\u001b[0m\u001b[1;33m[\u001b[0m\u001b[0mengine\u001b[0m\u001b[1;33m]\u001b[0m\u001b[1;33m(\u001b[0m\u001b[0mself\u001b[0m\u001b[1;33m.\u001b[0m\u001b[0mf\u001b[0m\u001b[1;33m,\u001b[0m \u001b[1;33m**\u001b[0m\u001b[0mself\u001b[0m\u001b[1;33m.\u001b[0m\u001b[0moptions\u001b[0m\u001b[1;33m)\u001b[0m  \u001b[1;31m# type: ignore[call-arg]\u001b[0m\u001b[1;33m\u001b[0m\u001b[1;33m\u001b[0m\u001b[0m\n\u001b[0m\u001b[0;32m   1041\u001b[0m \u001b[1;33m\u001b[0m\u001b[0m\n\u001b[0;32m   1042\u001b[0m     \u001b[1;32mdef\u001b[0m \u001b[0m_failover_to_python\u001b[0m\u001b[1;33m(\u001b[0m\u001b[0mself\u001b[0m\u001b[1;33m)\u001b[0m\u001b[1;33m:\u001b[0m\u001b[1;33m\u001b[0m\u001b[1;33m\u001b[0m\u001b[0m\n",
      "\u001b[1;32m~\\anaconda3\\lib\\site-packages\\pandas\\io\\parsers\\c_parser_wrapper.py\u001b[0m in \u001b[0;36m__init__\u001b[1;34m(self, src, **kwds)\u001b[0m\n\u001b[0;32m     67\u001b[0m         \u001b[0mkwds\u001b[0m\u001b[1;33m[\u001b[0m\u001b[1;34m\"dtype\"\u001b[0m\u001b[1;33m]\u001b[0m \u001b[1;33m=\u001b[0m \u001b[0mensure_dtype_objs\u001b[0m\u001b[1;33m(\u001b[0m\u001b[0mkwds\u001b[0m\u001b[1;33m.\u001b[0m\u001b[0mget\u001b[0m\u001b[1;33m(\u001b[0m\u001b[1;34m\"dtype\"\u001b[0m\u001b[1;33m,\u001b[0m \u001b[1;32mNone\u001b[0m\u001b[1;33m)\u001b[0m\u001b[1;33m)\u001b[0m\u001b[1;33m\u001b[0m\u001b[1;33m\u001b[0m\u001b[0m\n\u001b[0;32m     68\u001b[0m         \u001b[1;32mtry\u001b[0m\u001b[1;33m:\u001b[0m\u001b[1;33m\u001b[0m\u001b[1;33m\u001b[0m\u001b[0m\n\u001b[1;32m---> 69\u001b[1;33m             \u001b[0mself\u001b[0m\u001b[1;33m.\u001b[0m\u001b[0m_reader\u001b[0m \u001b[1;33m=\u001b[0m \u001b[0mparsers\u001b[0m\u001b[1;33m.\u001b[0m\u001b[0mTextReader\u001b[0m\u001b[1;33m(\u001b[0m\u001b[0mself\u001b[0m\u001b[1;33m.\u001b[0m\u001b[0mhandles\u001b[0m\u001b[1;33m.\u001b[0m\u001b[0mhandle\u001b[0m\u001b[1;33m,\u001b[0m \u001b[1;33m**\u001b[0m\u001b[0mkwds\u001b[0m\u001b[1;33m)\u001b[0m\u001b[1;33m\u001b[0m\u001b[1;33m\u001b[0m\u001b[0m\n\u001b[0m\u001b[0;32m     70\u001b[0m         \u001b[1;32mexcept\u001b[0m \u001b[0mException\u001b[0m\u001b[1;33m:\u001b[0m\u001b[1;33m\u001b[0m\u001b[1;33m\u001b[0m\u001b[0m\n\u001b[0;32m     71\u001b[0m             \u001b[0mself\u001b[0m\u001b[1;33m.\u001b[0m\u001b[0mhandles\u001b[0m\u001b[1;33m.\u001b[0m\u001b[0mclose\u001b[0m\u001b[1;33m(\u001b[0m\u001b[1;33m)\u001b[0m\u001b[1;33m\u001b[0m\u001b[1;33m\u001b[0m\u001b[0m\n",
      "\u001b[1;32m~\\anaconda3\\lib\\site-packages\\pandas\\_libs\\parsers.pyx\u001b[0m in \u001b[0;36mpandas._libs.parsers.TextReader.__cinit__\u001b[1;34m()\u001b[0m\n",
      "\u001b[1;32m~\\anaconda3\\lib\\site-packages\\pandas\\_libs\\parsers.pyx\u001b[0m in \u001b[0;36mpandas._libs.parsers.TextReader._get_header\u001b[1;34m()\u001b[0m\n",
      "\u001b[1;32m~\\anaconda3\\lib\\site-packages\\pandas\\_libs\\parsers.pyx\u001b[0m in \u001b[0;36mpandas._libs.parsers.TextReader._tokenize_rows\u001b[1;34m()\u001b[0m\n",
      "\u001b[1;32m~\\anaconda3\\lib\\site-packages\\pandas\\_libs\\parsers.pyx\u001b[0m in \u001b[0;36mpandas._libs.parsers.raise_parser_error\u001b[1;34m()\u001b[0m\n",
      "\u001b[1;31mParserError\u001b[0m: Error tokenizing data. C error: out of memory"
     ]
    }
   ],
   "source": [
    "path = r\"C:\\Users\\David\\Desktop\\CareerFoundry\\Achievement 4\\Instacart Basket Analysis\"\n",
    "\n",
    "customers = pd.read_csv(os.path.join(path, '02 Data', 'Original Data',  'customers.csv'))"
   ]
  },
  {
   "cell_type": "markdown",
   "id": "ca73b69f",
   "metadata": {},
   "source": [
    "#### 2. Cleaning customers Data Frame"
   ]
  },
  {
   "cell_type": "code",
   "execution_count": null,
   "id": "dd9e7f78",
   "metadata": {},
   "outputs": [],
   "source": [
    "# Verifying columns for customer data frame\n",
    "\n",
    "customers.head()"
   ]
  },
  {
   "cell_type": "code",
   "execution_count": null,
   "id": "d8d9f00e",
   "metadata": {},
   "outputs": [],
   "source": [
    "# Renaming columns in customers Data Frame\n",
    "\n",
    "customers.rename(columns={'First Name': 'first_name', 'Surnam': 'last_name', 'Gender': 'gender', 'STATE': 'state', 'Age': 'age',\n",
    "                  'n_dependants': 'dependants'}, inplace=True)"
   ]
  },
  {
   "cell_type": "code",
   "execution_count": null,
   "id": "3de59087",
   "metadata": {},
   "outputs": [],
   "source": [
    "# Verifying column name changes\n",
    "\n",
    "customers.head()"
   ]
  },
  {
   "cell_type": "code",
   "execution_count": null,
   "id": "b9f0675d",
   "metadata": {},
   "outputs": [],
   "source": [
    "# Checking data types in customers Data Frame\n",
    "\n",
    "customers.dtypes"
   ]
  },
  {
   "cell_type": "code",
   "execution_count": null,
   "id": "e89caebc",
   "metadata": {},
   "outputs": [],
   "source": [
    "# Checking for unusual values in customers Data Frame\n",
    "\n",
    "customers.describe()"
   ]
  },
  {
   "cell_type": "code",
   "execution_count": null,
   "id": "a5e7cdb8",
   "metadata": {},
   "outputs": [],
   "source": [
    "# Checking for null values in customers Data Frame\n",
    "\n",
    "customers.isnull().sum()"
   ]
  },
  {
   "cell_type": "code",
   "execution_count": null,
   "id": "198ea89f",
   "metadata": {},
   "outputs": [],
   "source": [
    "# Checking for mixed values in columns in customers Data Frame\n",
    "\n",
    "for col in customers.columns.tolist():\n",
    "  weird = (customers[[col]].applymap(type) != customers[[col]].iloc[0].apply(type)).any(axis = 1)\n",
    "  if len (customers[weird]) > 0:\n",
    "    print (col)"
   ]
  },
  {
   "cell_type": "code",
   "execution_count": null,
   "id": "337f3dd6",
   "metadata": {},
   "outputs": [],
   "source": [
    "# Dropping personally identifying information columns in customers Data Frame (not needed for analysis)\n",
    "\n",
    "customers.drop(['first_name', 'last_name'], axis=1, inplace=True)"
   ]
  },
  {
   "cell_type": "code",
   "execution_count": null,
   "id": "edc145a7",
   "metadata": {},
   "outputs": [],
   "source": [
    "# Verifying that columns have been removed\n",
    "\n",
    "customers.head()"
   ]
  },
  {
   "cell_type": "code",
   "execution_count": null,
   "id": "d5ea37a1",
   "metadata": {},
   "outputs": [],
   "source": [
    "# Checking for duplicates in customers Data Frame\n",
    "\n",
    "customers.duplicated().value_counts()"
   ]
  },
  {
   "cell_type": "markdown",
   "id": "e889a488",
   "metadata": {},
   "source": [
    "#### 3. Create ords_prods_merged Data Frame"
   ]
  },
  {
   "cell_type": "code",
   "execution_count": null,
   "id": "ff2d317d",
   "metadata": {},
   "outputs": [],
   "source": [
    "ords_prods_merged = pd.read_pickle(os.path.join(path, '02 Data', 'Prepared Data', 'merged_prods_ords_flagged.pkl'))\n"
   ]
  },
  {
   "cell_type": "markdown",
   "id": "69267e56",
   "metadata": {},
   "source": [
    "#### 4. Cleaning ords_prods_merged Data Frame"
   ]
  },
  {
   "cell_type": "code",
   "execution_count": null,
   "id": "3e89e53b",
   "metadata": {},
   "outputs": [],
   "source": [
    "# Checking for duplicated in ords_prods_merged Data Frame\n",
    "\n",
    "ords_prods_merged.duplicated().value_counts()"
   ]
  },
  {
   "cell_type": "code",
   "execution_count": null,
   "id": "1251f63b",
   "metadata": {},
   "outputs": [],
   "source": [
    "# Checking duplicated values in ords_prods_merged Data Frame\n",
    "\n",
    "ords_prods_merged[ords_prods_merged.duplicated() == True]"
   ]
  },
  {
   "cell_type": "code",
   "execution_count": null,
   "id": "e4210a0b",
   "metadata": {},
   "outputs": [],
   "source": [
    "# Verifying duplicate by taking values from subset above and confirming that duplicates do exist\n",
    "\n",
    "ords_prods_merged[(ords_prods_merged.order_id == 2564286) & (ords_prods_merged.product_id == 35306)]"
   ]
  },
  {
   "cell_type": "code",
   "execution_count": null,
   "id": "43d08940",
   "metadata": {},
   "outputs": [],
   "source": [
    "# Dropping duplicates\n",
    "\n",
    "ords_prods_merged.drop_duplicates(inplace=True)"
   ]
  },
  {
   "cell_type": "code",
   "execution_count": null,
   "id": "bbc630ff",
   "metadata": {},
   "outputs": [],
   "source": [
    "# Verifying that duplicates have been removed\n",
    "\n",
    "ords_prods_merged[ords_prods_merged.duplicated() == True]"
   ]
  },
  {
   "cell_type": "code",
   "execution_count": null,
   "id": "305056fa",
   "metadata": {},
   "outputs": [],
   "source": [
    "# Verifying that duplicates have been removed\n",
    "\n",
    "ords_prods_merged.duplicated().value_counts()"
   ]
  },
  {
   "cell_type": "markdown",
   "id": "57719681",
   "metadata": {},
   "source": [
    "#### 5. Merging Data Frames to create instacart_data Data Frame"
   ]
  },
  {
   "cell_type": "code",
   "execution_count": null,
   "id": "096d0e3d",
   "metadata": {},
   "outputs": [],
   "source": [
    "# Merging customers Data Frame and ords_prods_merged Data Frame on 'user_id' column\n",
    "\n",
    "instacart_data = ords_prods_merged.merge(customers, on='user_id', indicator=True)"
   ]
  },
  {
   "cell_type": "code",
   "execution_count": null,
   "id": "a3e34c5c",
   "metadata": {},
   "outputs": [],
   "source": [
    "# Checking merged Data Frame\n",
    "\n",
    "instacart_data.head()"
   ]
  },
  {
   "cell_type": "markdown",
   "id": "f79e02f8",
   "metadata": {},
   "source": [
    "#### 6. Cleaning and optimizing data types in instacart_data Data Frame"
   ]
  },
  {
   "cell_type": "code",
   "execution_count": null,
   "id": "f5ec11a6",
   "metadata": {},
   "outputs": [],
   "source": [
    "# Verifying merged values\n",
    "\n",
    "instacart_data._merge.value_counts()"
   ]
  },
  {
   "cell_type": "code",
   "execution_count": null,
   "id": "fd955dea",
   "metadata": {},
   "outputs": [],
   "source": [
    "# Checking the shape of the merged instacart_data Data Frame\n",
    "\n",
    "instacart_data.shape"
   ]
  },
  {
   "cell_type": "code",
   "execution_count": null,
   "id": "918eefd2",
   "metadata": {},
   "outputs": [],
   "source": [
    "# Verifying data types of instacart_data Data Frame\n",
    "\n",
    "instacart_data.dtypes"
   ]
  },
  {
   "cell_type": "code",
   "execution_count": null,
   "id": "fc36d6da",
   "metadata": {},
   "outputs": [],
   "source": [
    "# Using a for-loop to optimize int data types based on maximum positive values (to save memory)\n",
    "\n",
    "for col in list(instacart_data.columns)[:-1]:\n",
    "    if instacart_data[col].dtype != 'object' and instacart_data[col].dtype != 'float':\n",
    "        if instacart_data[col].max() < 127:\n",
    "            instacart_data[col] = instacart_data[col].astype('int8')\n",
    "        elif instacart_data[col].max() <= 32767:\n",
    "            instacart_data[col] = instacart_data[col].astype('int16')\n",
    "        elif instacart_data[col].max() <= 2147483647:\n",
    "            instacart_data[col] = instacart_data[col].astype('int32')\n",
    "        else:\n",
    "            instacart_data[col] = instacart_data[col].astype('int64')"
   ]
  },
  {
   "cell_type": "code",
   "execution_count": null,
   "id": "9782495a",
   "metadata": {},
   "outputs": [],
   "source": [
    "# Verifying changes after running for-loop\n",
    "\n",
    "instacart_data.dtypes"
   ]
  },
  {
   "cell_type": "code",
   "execution_count": null,
   "id": "8f07ad41",
   "metadata": {},
   "outputs": [],
   "source": [
    "# Verifying that no duplicate values exist in merged Data Frame\n",
    "\n",
    "instacart_data.duplicated().value_counts()"
   ]
  },
  {
   "cell_type": "code",
   "execution_count": null,
   "id": "aa05d4ee",
   "metadata": {},
   "outputs": [],
   "source": [
    "# Removing the indicator '_merge' column from the merged Data Frame\n",
    "\n",
    "instacart_data.drop('_merge', axis=1, inplace=True)"
   ]
  },
  {
   "cell_type": "code",
   "execution_count": null,
   "id": "4a7b6015",
   "metadata": {},
   "outputs": [],
   "source": [
    "# Verifying that column has been removed\n",
    "\n",
    "instacart_data.head()"
   ]
  },
  {
   "cell_type": "code",
   "execution_count": null,
   "id": "7c879500",
   "metadata": {},
   "outputs": [],
   "source": [
    "# Verifying new shape of Data Frame\n",
    "\n",
    "instacart_data.shape"
   ]
  },
  {
   "cell_type": "markdown",
   "id": "e261acf6",
   "metadata": {},
   "source": [
    "#### 7. Saving instacart_data Data Frame to .pkl"
   ]
  },
  {
   "cell_type": "code",
   "execution_count": null,
   "id": "96633df0",
   "metadata": {},
   "outputs": [],
   "source": [
    "# Saving instacart_data Data Frame to .pkl file\n",
    "\n",
    "instacart_data.to_pickle(os.path.join(path, '02 Data', 'Prepared Data', 'instacart_data1.pkl'))"
   ]
  }
 ],
 "metadata": {
  "kernelspec": {
   "display_name": "Python 3 (ipykernel)",
   "language": "python",
   "name": "python3"
  },
  "language_info": {
   "codemirror_mode": {
    "name": "ipython",
    "version": 3
   },
   "file_extension": ".py",
   "mimetype": "text/x-python",
   "name": "python",
   "nbconvert_exporter": "python",
   "pygments_lexer": "ipython3",
   "version": "3.9.7"
  }
 },
 "nbformat": 4,
 "nbformat_minor": 5
}
