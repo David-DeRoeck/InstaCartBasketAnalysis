{
 "cells": [
  {
   "cell_type": "markdown",
   "id": "157fbd54",
   "metadata": {},
   "source": [
    "# Deriving New Variables"
   ]
  },
  {
   "cell_type": "markdown",
   "id": "fe2c044f",
   "metadata": {},
   "source": [
    "## Steps in script:\n",
    "\n",
    "#### 1. Creating Data Frames\n",
    "#### 2. Creating price_range column with Functions\n",
    "#### 3. Creating price_range_loc column with .loc\n",
    "#### 4. Creating busiest_day column\n",
    "#### 5. Creating new busiest_days column\n",
    "#### 6. Creating busiest_period_of_day column"
   ]
  },
  {
   "cell_type": "code",
   "execution_count": 1,
   "id": "3118d22c",
   "metadata": {},
   "outputs": [],
   "source": [
    "# Importing libraries\n",
    "\n",
    "import pandas as pd\n",
    "import numpy as np\n",
    "import os"
   ]
  },
  {
   "cell_type": "markdown",
   "id": "661769bb",
   "metadata": {},
   "source": [
    "#### 1. Creating Data Frames"
   ]
  },
  {
   "cell_type": "code",
   "execution_count": 13,
   "id": "2f434240",
   "metadata": {},
   "outputs": [],
   "source": [
    "# Creating ords_prods_merge Data Frame\n",
    "\n",
    "path = r\"C:\\Users\\David\\Desktop\\CareerFoundry\\Achievement 4\\Instacart Basket Analysis\"\n",
    "\n",
    "ords_prods_merge = pd.read_pickle(os.path.join(path, '02 Data', 'Prepared Data', 'merged_data.pkl'))"
   ]
  },
  {
   "cell_type": "code",
   "execution_count": 14,
   "id": "df289ad6",
   "metadata": {},
   "outputs": [],
   "source": [
    "# Creating subset of ords_prods_merge containing up to 1000000 entries\n",
    "\n",
    "df = ords_prods_merge[:1000000]"
   ]
  },
  {
   "cell_type": "markdown",
   "id": "cdeccb81",
   "metadata": {},
   "source": [
    "#### 2. Creating price_range column with Functions"
   ]
  },
  {
   "cell_type": "code",
   "execution_count": 21,
   "id": "e4d875fb",
   "metadata": {},
   "outputs": [],
   "source": [
    "# Creating price_label function to apply price-range flags\n",
    "\n",
    "def price_label(row):\n",
    "    if row['prices'] <= 5:\n",
    "        return 'low-range product'\n",
    "    elif row['prices'] > 5 and row['prices'] <= 15:\n",
    "        return 'mid-range product'\n",
    "    elif row['prices'] > 15:\n",
    "        return 'high-range product'\n",
    "    else:\n",
    "        return 'not enough data'\n",
    " "
   ]
  },
  {
   "cell_type": "code",
   "execution_count": 22,
   "id": "1475458d",
   "metadata": {},
   "outputs": [
    {
     "name": "stderr",
     "output_type": "stream",
     "text": [
      "C:\\Users\\David\\AppData\\Local\\Temp/ipykernel_15340/2848743372.py:1: SettingWithCopyWarning: \n",
      "A value is trying to be set on a copy of a slice from a DataFrame.\n",
      "Try using .loc[row_indexer,col_indexer] = value instead\n",
      "\n",
      "See the caveats in the documentation: https://pandas.pydata.org/pandas-docs/stable/user_guide/indexing.html#returning-a-view-versus-a-copy\n",
      "  df['price_range'] = df.apply(price_label, axis=1)\n"
     ]
    }
   ],
   "source": [
    "# Applying price_range function to price_label column to create 'price_range' column\n",
    "\n",
    "df['price_range'] = df.apply(price_label, axis=1)"
   ]
  },
  {
   "cell_type": "code",
   "execution_count": 23,
   "id": "2b87763f",
   "metadata": {},
   "outputs": [
    {
     "data": {
      "text/plain": [
       "mid-range product    756450\n",
       "low-range product    243550\n",
       "Name: price_range, dtype: int64"
      ]
     },
     "execution_count": 23,
     "metadata": {},
     "output_type": "execute_result"
    }
   ],
   "source": [
    "# Verifying frequency of price_range column\n",
    "\n",
    "df['price_range'].value_counts(dropna = False)"
   ]
  },
  {
   "cell_type": "code",
   "execution_count": 24,
   "id": "641b7cf5",
   "metadata": {},
   "outputs": [
    {
     "data": {
      "text/plain": [
       "14.8"
      ]
     },
     "execution_count": 24,
     "metadata": {},
     "output_type": "execute_result"
    }
   ],
   "source": [
    "# Verifying maximum value in 'prices' column in our data frame subset\n",
    "\n",
    "df['prices'].max()"
   ]
  },
  {
   "cell_type": "markdown",
   "id": "b3f6c7d1",
   "metadata": {},
   "source": [
    "#### 3. Creating price_range_loc column with .loc"
   ]
  },
  {
   "cell_type": "code",
   "execution_count": 28,
   "id": "bd92219e",
   "metadata": {},
   "outputs": [],
   "source": [
    "## Using .loc method to apply flag to 'price_range_loc' column\n",
    "\n",
    "df.loc[df['prices'] > 15, 'price_range_loc'] = 'High-range product'"
   ]
  },
  {
   "cell_type": "code",
   "execution_count": 26,
   "id": "5409f6b0",
   "metadata": {},
   "outputs": [],
   "source": [
    "## Using .loc method to apply flag to 'price_range_loc' column\n",
    "\n",
    "df.loc[(df['prices'] <= 15) & (df['prices'] > 5), 'price_range_loc'] = 'Mid-range product' "
   ]
  },
  {
   "cell_type": "code",
   "execution_count": 27,
   "id": "9532fa2f",
   "metadata": {},
   "outputs": [],
   "source": [
    "## Using .loc method to apply flag to 'price_range_loc' column\n",
    "\n",
    "df.loc[df['prices'] <= 5, 'price_range_loc'] = 'Low-range product'"
   ]
  },
  {
   "cell_type": "code",
   "execution_count": 30,
   "id": "796ebd17",
   "metadata": {},
   "outputs": [
    {
     "data": {
      "text/plain": [
       "Mid-range product    756450\n",
       "Low-range product    243550\n",
       "Name: price_range_loc, dtype: int64"
      ]
     },
     "execution_count": 30,
     "metadata": {},
     "output_type": "execute_result"
    }
   ],
   "source": [
    "## Verifying frequency of 'price_range_loc' column\n",
    "\n",
    "df['price_range_loc'].value_counts(dropna = False)"
   ]
  },
  {
   "cell_type": "code",
   "execution_count": 31,
   "id": "d4f364d5",
   "metadata": {},
   "outputs": [],
   "source": [
    "## Using .loc method to apply flag to 'price_range' column in ords_prods_merge Data Frame\n",
    "\n",
    "ords_prods_merge.loc[ords_prods_merge['prices'] > 15, 'price_range'] = 'High-range product'"
   ]
  },
  {
   "cell_type": "code",
   "execution_count": 32,
   "id": "4cd38e0f",
   "metadata": {},
   "outputs": [],
   "source": [
    "## Using .loc method to apply flag to 'price_range' column in ords_prods_merge Data Frame\n",
    "\n",
    "ords_prods_merge.loc[(ords_prods_merge['prices'] <= 15) & (ords_prods_merge['prices'] > 5), 'price_range'] = 'Mid-range product'"
   ]
  },
  {
   "cell_type": "code",
   "execution_count": 33,
   "id": "c7ab6cb2",
   "metadata": {},
   "outputs": [],
   "source": [
    "## Using .loc method to apply flag to 'price_range' column in ords_prods_merge Data Frame\n",
    "\n",
    "ords_prods_merge.loc[ords_prods_merge['prices'] <= 5, 'price_range'] = 'Low-range product'"
   ]
  },
  {
   "cell_type": "code",
   "execution_count": 34,
   "id": "05c15435",
   "metadata": {},
   "outputs": [
    {
     "data": {
      "text/plain": [
       "Mid-range product     21890146\n",
       "Low-range product     10126384\n",
       "High-range product      417682\n",
       "Name: price_range, dtype: int64"
      ]
     },
     "execution_count": 34,
     "metadata": {},
     "output_type": "execute_result"
    }
   ],
   "source": [
    "## Verifying frequency of 'price_range' column in ords_prods_merge Data Frame\n",
    "\n",
    "ords_prods_merge.price_range.value_counts(dropna=False)"
   ]
  },
  {
   "cell_type": "markdown",
   "id": "99a592da",
   "metadata": {},
   "source": [
    "#### 4. Creating busiest_day column"
   ]
  },
  {
   "cell_type": "code",
   "execution_count": 39,
   "id": "b12823fd",
   "metadata": {},
   "outputs": [],
   "source": [
    "# Implimenting for-loop to iterate over 'order_dow' column in ords_prods_merge Data Frame and appending list with flag values\n",
    "\n",
    "busy = []\n",
    "for value in ords_prods_merge.order_dow:\n",
    "    if value == 0:\n",
    "        busy.append('Busiest day')\n",
    "    elif value == 4:\n",
    "        busy.append('Least busy')\n",
    "    else:\n",
    "        busy.append('Regularly busy')"
   ]
  },
  {
   "cell_type": "code",
   "execution_count": 40,
   "id": "3dc65a12",
   "metadata": {},
   "outputs": [],
   "source": [
    "# Creating 'busiest_day' column using values from list generated using for loop\n",
    "\n",
    "ords_prods_merge['busiest_day'] = busy"
   ]
  },
  {
   "cell_type": "code",
   "execution_count": 41,
   "id": "606b98a1",
   "metadata": {},
   "outputs": [
    {
     "data": {
      "text/plain": [
       "Regularly busy    22437387\n",
       "Busiest day        6209632\n",
       "Least busy         3787193\n",
       "Name: busiest_day, dtype: int64"
      ]
     },
     "execution_count": 41,
     "metadata": {},
     "output_type": "execute_result"
    }
   ],
   "source": [
    "# Verifying frequency of values in busiest_day column\n",
    "\n",
    "ords_prods_merge.busiest_day.value_counts(dropna=False)"
   ]
  },
  {
   "cell_type": "markdown",
   "id": "c59f71e2",
   "metadata": {},
   "source": [
    "#### 5. Creating new busiest_days column"
   ]
  },
  {
   "cell_type": "code",
   "execution_count": 53,
   "id": "dcb28ca4",
   "metadata": {},
   "outputs": [
    {
     "data": {
      "text/plain": [
       "0    6209632\n",
       "1    5665830\n",
       "6    4500246\n",
       "2    4217766\n",
       "5    4209449\n",
       "3    3844096\n",
       "4    3787193\n",
       "Name: order_dow, dtype: int64"
      ]
     },
     "execution_count": 53,
     "metadata": {},
     "output_type": "execute_result"
    }
   ],
   "source": [
    "# Verifying frequency of 'order_dow' column to determine the busiest and least busiest days\n",
    "\n",
    "ords_prods_merge.order_dow.value_counts(dropna=False)"
   ]
  },
  {
   "cell_type": "code",
   "execution_count": 54,
   "id": "7c38c627",
   "metadata": {},
   "outputs": [],
   "source": [
    "# Implimenting for loop to iterate over 'order_dow' column and appending list with flag values\n",
    "\n",
    "days = []\n",
    "for value in ords_prods_merge.order_dow:\n",
    "    if value == 0 or value == 1:\n",
    "        days.append('Busiest days')\n",
    "    elif value == 3 or value == 4:\n",
    "        days.append('Least busy days')\n",
    "    else:\n",
    "        days.append('Regulary busy')"
   ]
  },
  {
   "cell_type": "code",
   "execution_count": 55,
   "id": "c21628ad",
   "metadata": {},
   "outputs": [],
   "source": [
    "# Creating 'busiest_days' column using values from list generated using for loop\n",
    "\n",
    "ords_prods_merge['busiest_days'] = days"
   ]
  },
  {
   "cell_type": "code",
   "execution_count": 56,
   "id": "1d23f067",
   "metadata": {},
   "outputs": [
    {
     "data": {
      "text/plain": [
       "Regulary busy      12927461\n",
       "Busiest days       11875462\n",
       "Least busy days     7631289\n",
       "Name: busiest_days, dtype: int64"
      ]
     },
     "execution_count": 56,
     "metadata": {},
     "output_type": "execute_result"
    }
   ],
   "source": [
    "# Verifying frequency of values in busiest_days column\n",
    "\n",
    "ords_prods_merge.busiest_days.value_counts(dropna=False)"
   ]
  },
  {
   "cell_type": "markdown",
   "id": "4b0e1605",
   "metadata": {},
   "source": [
    "#### 6. Creating busiest_period_of_day column"
   ]
  },
  {
   "cell_type": "code",
   "execution_count": 116,
   "id": "c0b5d4fc",
   "metadata": {},
   "outputs": [
    {
     "data": {
      "text/plain": [
       "10    2764390\n",
       "11    2738585\n",
       "14    2691563\n",
       "15    2664522\n",
       "13    2663272\n",
       "12    2620800\n",
       "16    2537469\n",
       "9     2456661\n",
       "17    2089452\n",
       "8     1719952\n",
       "18    1637922\n",
       "19    1259382\n",
       "20     977017\n",
       "7      891928\n",
       "21     796362\n",
       "22     634737\n",
       "23     402612\n",
       "6      290770\n",
       "0      218942\n",
       "1      115786\n",
       "5       88057\n",
       "2       69431\n",
       "4       53283\n",
       "3       51317\n",
       "Name: order_hour_of_day, dtype: int64"
      ]
     },
     "execution_count": 116,
     "metadata": {},
     "output_type": "execute_result"
    }
   ],
   "source": [
    "# Verifying frequency of order_hour_of_day column\n",
    "\n",
    "ords_prods_merge.order_hour_of_day.value_counts(dropna=False)"
   ]
  },
  {
   "cell_type": "code",
   "execution_count": 114,
   "id": "e7e35078",
   "metadata": {},
   "outputs": [
    {
     "name": "stdout",
     "output_type": "stream",
     "text": [
      "Busy:[10, 11, 14, 15, 13, 12, 16, 9]\n",
      "Average:[17, 8, 18, 19, 20, 7, 21, 22]\n",
      "Slow:[23, 6, 0, 1, 5, 2, 4, 3]\n"
     ]
    }
   ],
   "source": [
    "# Defining list variables that includes the hour of day based on the top, middle and bottom 8 hours based on frequency.\n",
    "\n",
    "busy = list(ords_prods_merge.order_hour_of_day.value_counts(dropna=False).iloc[0:8].index)\n",
    "average = list(ords_prods_merge.order_hour_of_day.value_counts(dropna=False).iloc[8:16].index)\n",
    "slow = list(ords_prods_merge.order_hour_of_day.value_counts(dropna=False).iloc[16:25].index)\n",
    "\n",
    "print(f'Busy:{busy}\\nAverage:{average}\\nSlow:{slow}')"
   ]
  },
  {
   "cell_type": "code",
   "execution_count": 102,
   "id": "a0fa92e2",
   "metadata": {},
   "outputs": [],
   "source": [
    "# Implimenting for loop to iterate through 'order_hour_of_day' column and append value falgs to traffic list\n",
    "\n",
    "traffic = []\n",
    "for value in ords_prods_merge.order_hour_of_day:\n",
    "    if value in busy:\n",
    "        traffic.append('Most orders')\n",
    "    elif value in average:\n",
    "        traffic.append('Average orders')\n",
    "    elif value in slow:\n",
    "        traffic.append('Fewest orders')\n",
    "    else:\n",
    "        traffic.append('not enough data')"
   ]
  },
  {
   "cell_type": "code",
   "execution_count": 103,
   "id": "8535f4f3",
   "metadata": {},
   "outputs": [],
   "source": [
    "# Creating 'busiest_period_of_day' column using list created by for loop\n",
    "\n",
    "ords_prods_merge['busiest_period_of_day'] = traffic"
   ]
  },
  {
   "cell_type": "code",
   "execution_count": 117,
   "id": "f823df7f",
   "metadata": {
    "scrolled": true
   },
   "outputs": [
    {
     "data": {
      "text/plain": [
       "Most orders       21137262\n",
       "Average orders    10006752\n",
       "Fewest orders      1290198\n",
       "Name: busiest_period_of_day, dtype: int64"
      ]
     },
     "execution_count": 117,
     "metadata": {},
     "output_type": "execute_result"
    }
   ],
   "source": [
    "# Verifying frequncy of 'busiest_period_of_day' column\n",
    "\n",
    "ords_prods_merge.busiest_period_of_day.value_counts(dropna=False)"
   ]
  },
  {
   "cell_type": "code",
   "execution_count": 118,
   "id": "1374ae10",
   "metadata": {},
   "outputs": [],
   "source": [
    "# Exporting ords_prods_merge to pickle file\n",
    "\n",
    "ords_prods_merge.to_pickle(os.path.join(path, '02 Data', 'Prepared Data', 'orders_products.pkl'))"
   ]
  }
 ],
 "metadata": {
  "kernelspec": {
   "display_name": "Python 3 (ipykernel)",
   "language": "python",
   "name": "python3"
  },
  "language_info": {
   "codemirror_mode": {
    "name": "ipython",
    "version": 3
   },
   "file_extension": ".py",
   "mimetype": "text/x-python",
   "name": "python",
   "nbconvert_exporter": "python",
   "pygments_lexer": "ipython3",
   "version": "3.9.7"
  }
 },
 "nbformat": 4,
 "nbformat_minor": 5
}
